{
 "cells": [
  {
   "cell_type": "code",
   "execution_count": null,
   "metadata": {},
   "outputs": [],
   "source": [
    "import numpy as np\n",
    "import pandas as pd\n",
    "import matplotlib.pyplot as plt\n",
    "import seaborn as sns\n",
    "import os\n",
    "import sys\n",
    "import wfdb"
   ]
  },
  {
   "cell_type": "code",
   "execution_count": null,
   "metadata": {},
   "outputs": [],
   "source": [
    "record=wfdb.rdrecord('tpehgt_n001')\n",
    "plt.rcParams['figure.figsize'] = [20, 20]\n",
    "wfdb.plot_wfdb(record=record, title='Not pregnant')\n"
   ]
  },
  {
   "cell_type": "code",
   "execution_count": null,
   "metadata": {},
   "outputs": [],
   "source": [
    "record=wfdb.rdrecord('tpehgt_p001')\n",
    "plt.rcParams['figure.figsize'] = [20, 20]\n",
    "wfdb.plot_wfdb(record=record, title='Preterm')\n"
   ]
  },
  {
   "cell_type": "code",
   "execution_count": null,
   "metadata": {},
   "outputs": [],
   "source": [
    "record=wfdb.rdrecord('tpehgt_p003')\n",
    "plt.rcParams['figure.figsize'] = [20, 20]\n",
    "wfdb.plot_wfdb(record=record, title='Preterm')"
   ]
  },
  {
   "cell_type": "code",
   "execution_count": null,
   "metadata": {},
   "outputs": [],
   "source": [
    "record=wfdb.rdrecord('tpehgt_t001')\n",
    "plt.rcParams['figure.figsize'] = [20, 20]\n",
    "wfdb.plot_wfdb(record=record, title='Term')\n"
   ]
  },
  {
   "cell_type": "code",
   "execution_count": null,
   "metadata": {},
   "outputs": [],
   "source": [
    "record=wfdb.rdrecord('tpehgt_t003')\n",
    "plt.rcParams['figure.figsize'] = [20, 20]\n",
    "wfdb.plot_wfdb(record=record, title='Term')"
   ]
  },
  {
   "cell_type": "code",
   "execution_count": null,
   "metadata": {},
   "outputs": [],
   "source": [
    "#convert all the files into one csv file\n",
    "\n",
    "\n",
    "path = 'C:/Users/rehan/Desktop/term-preterm-ehg-dataset-with-tocogram-1.0.0/'\n",
    "for file in os.listdir(path):\n",
    "    if file.endswith(\".dat\"):\n",
    "        record = wfdb.rdrecord(path+file[:-4])\n",
    "        df = pd.DataFrame(record.p_signal)\n",
    "        df.to_csv(path+file[:-4]+'.csv',header=record.sig_name, index=True)\n",
    "        print(file)\n",
    "df.head()"
   ]
  },
  {
   "cell_type": "code",
   "execution_count": null,
   "metadata": {},
   "outputs": [],
   "source": [
    "path = 'C:/Users/rehan/Desktop/term-preterm-ehg-dataset-with-tocogram-1.0.0/'\n",
    "for file in os.listdir(path):\n",
    "    if file.endswith(\".atr\"):\n",
    "        record = wfdb.rdrecord(path+file[:-4])\n",
    "        df2 = pd.DataFrame(record.p_signal)\n",
    "        df2.to_csv(path+file[:-4]+'.csv', index=True)\n",
    "        print(file)\n",
    "df2.head()\n"
   ]
  },
  {
   "cell_type": "code",
   "execution_count": null,
   "metadata": {},
   "outputs": [],
   "source": [
    "#drop column 0 from all the csv files\n",
    "\n",
    "path = 'C:/Users/rehan/Desktop/term-preterm-ehg-dataset-with-tocogram-1.0.0/'\n",
    "for file in os.listdir(path):\n",
    "    if file.endswith(\".csv\"):\n",
    "        df = pd.read_csv(path+file)\n",
    "        df = df.drop('0', axis=1)\n",
    "        df.to_csv(path+file, index=False)\n",
    "        print(file)\n",
    "df.head()"
   ]
  }
 ],
 "metadata": {
  "kernelspec": {
   "display_name": "Python 3.9.0 64-bit",
   "language": "python",
   "name": "python3"
  },
  "language_info": {
   "codemirror_mode": {
    "name": "ipython",
    "version": 3
   },
   "file_extension": ".py",
   "mimetype": "text/x-python",
   "name": "python",
   "nbconvert_exporter": "python",
   "pygments_lexer": "ipython3",
   "version": "3.9.0"
  },
  "orig_nbformat": 4,
  "vscode": {
   "interpreter": {
    "hash": "091af42eb7049ab4f6a2a6a8451825e7bf1e4d9100eb6688df05c26a5835087c"
   }
  }
 },
 "nbformat": 4,
 "nbformat_minor": 2
}
